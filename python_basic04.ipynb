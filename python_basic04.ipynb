{
  "nbformat": 4,
  "nbformat_minor": 0,
  "metadata": {
    "colab": {
      "name": "python-basic04.ipynb",
      "provenance": [],
      "collapsed_sections": [],
      "authorship_tag": "ABX9TyOhKa6eTFp40zKorq3PVJLZ",
      "include_colab_link": true
    },
    "kernelspec": {
      "name": "python3",
      "display_name": "Python 3"
    },
    "language_info": {
      "name": "python"
    }
  },
  "cells": [
    {
      "cell_type": "markdown",
      "metadata": {
        "id": "view-in-github",
        "colab_type": "text"
      },
      "source": [
        "<a href=\"https://colab.research.google.com/github/Jeromy0515/big-data-analysis-2/blob/main/python_basic04.ipynb\" target=\"_parent\"><img src=\"https://colab.research.google.com/assets/colab-badge.svg\" alt=\"Open In Colab\"/></a>"
      ]
    },
    {
      "cell_type": "code",
      "execution_count": 2,
      "metadata": {
        "colab": {
          "base_uri": "https://localhost:8080/"
        },
        "id": "2xJw-9_cbztg",
        "outputId": "bc818505-4ca7-4720-db4e-9f5664df013b"
      },
      "outputs": [
        {
          "output_type": "stream",
          "name": "stdout",
          "text": [
            "list1 : [8, 1, 2, 3, 4]\n",
            "sort : [1, 2, 3, 4, 8]\n",
            "reverse sort : [8, 4, 3, 2, 1]\n"
          ]
        }
      ],
      "source": [
        "list1 = [1, 2, 3, 4]\n",
        "\n",
        "# list1 에서 첫번째 자리에 8이라는 값을 넣고 나머지 값을 오른쪽으로 한칸씩 밀리게 하세요.\n",
        "list1.insert(0, 8)\n",
        "print('list1 :', list1)\n",
        "\n",
        "# list1을 오름차순 정렬하세요.\n",
        "list1.sort()\n",
        "print('sort :', list1)\n",
        "\n",
        "# list1을 내림차순 정렬하세요.\n",
        "list1.reverse()\n",
        "print('reverse sort :', list1)"
      ]
    },
    {
      "cell_type": "code",
      "source": [
        "# 리스트와 문자열\n",
        "list1 = [1, 2, 3, 4, 5, 6]\n",
        "print(list1[0])\n",
        "print(list1[1])\n",
        "\n",
        "str1 = 'Hello World!'\n",
        "print(str1[0])\n",
        "print(str1[1])\n",
        "\n",
        "print(3 in list1)\n",
        "print('H' in str1)\n",
        "\n",
        "print(list1.index(5))\n",
        "print(str1.index('r'))"
      ],
      "metadata": {
        "colab": {
          "base_uri": "https://localhost:8080/"
        },
        "id": "vJu296xEf-vJ",
        "outputId": "c48d5a55-33cf-47e0-bf77-d6386b5e353a"
      },
      "execution_count": 8,
      "outputs": [
        {
          "output_type": "stream",
          "name": "stdout",
          "text": [
            "1\n",
            "2\n",
            "H\n",
            "e\n",
            "True\n",
            "True\n",
            "4\n",
            "8\n"
          ]
        }
      ]
    },
    {
      "cell_type": "code",
      "source": [
        "# 문자 리스트\n",
        "\n",
        "charactors = list('abcdef')\n",
        "print(charactors)\n",
        "print(type(charactors))"
      ],
      "metadata": {
        "colab": {
          "base_uri": "https://localhost:8080/"
        },
        "id": "2ifTxCdhhYNZ",
        "outputId": "8d202d18-d636-44dc-bc59-4434ad0dbf70"
      },
      "execution_count": 10,
      "outputs": [
        {
          "output_type": "stream",
          "name": "stdout",
          "text": [
            "['a', 'b', 'c', 'd', 'e', 'f']\n",
            "<class 'list'>\n"
          ]
        }
      ]
    },
    {
      "cell_type": "code",
      "source": [
        "# 문자열 분리\n",
        "# split 함수 \n",
        "# 파라미터로 받은 정규식을 기준으로 문자열을 분리, 기본값은 공백\n",
        "\n",
        "words = 'Hello world는 프로그래밍을 시작하기 좋은 사이트 입니다.'\n",
        "words_list = words.split()\n",
        "\n",
        "print(words_list)\n",
        "\n",
        "time_str = '10:55:23'\n",
        "time_list = time_str.split(':')\n",
        "\n",
        "print(time_list)"
      ],
      "metadata": {
        "colab": {
          "base_uri": "https://localhost:8080/"
        },
        "id": "n9xbvsoYh5uZ",
        "outputId": "a5d7fca8-cab9-40b4-f777-526fa94e0fa6"
      },
      "execution_count": 11,
      "outputs": [
        {
          "output_type": "stream",
          "name": "stdout",
          "text": [
            "['Hello', 'world는', '프로그래밍을', '시작하기', '좋은', '사이트', '입니다.']\n",
            "['10', '55', '23']\n"
          ]
        }
      ]
    },
    {
      "cell_type": "code",
      "source": [
        "# 문자열 병합\n",
        "# join 함수\n",
        "# 해당 문자열을 리스트사이에 채워넣어 하나의 문자열로 반환\n",
        "print(':'.join(time_list))\n",
        "\n",
        "print(' '.join(words_list))"
      ],
      "metadata": {
        "colab": {
          "base_uri": "https://localhost:8080/"
        },
        "id": "k2qHk3dQi4Ei",
        "outputId": "d3bc7704-b45c-49eb-c673-29ac98cc3415"
      },
      "execution_count": 13,
      "outputs": [
        {
          "output_type": "stream",
          "name": "stdout",
          "text": [
            "10:55:23\n",
            "Hello world는 프로그래밍을 시작하기 좋은 사이트 입니다.\n"
          ]
        }
      ]
    },
    {
      "cell_type": "code",
      "source": [
        "# 실습\n",
        "# \"오늘은 날씨가 흐림\" 이라는 문자열을 \"오늘은 날씨가 맑음\" 이라는 문자열로 바꾸는 과정을 나타낸 코드이다. 주석의 안내를 따라 빈칸에 코드를 추가하세요.\n",
        "\n",
        "str_w = \"오늘은 날씨가 흐림\"\n",
        "\n",
        "# split을 이용해서 str_w을 공백으로 나눈 문자열을 words에 저장하세요.\n",
        "words = str_w.split()\n",
        "\n",
        "# index()를 이용하여 \"흐림\"이 몇 번째에 있는지 찾고 position에 저장하세요.\n",
        "position = words.index('흐림')\n",
        "\n",
        "# position에 저장된 위치를 이용해 '흐림'을 '맑음'으로 바꿔주세요.\n",
        "words[position] = '맑음'\n",
        "\n",
        "# join을 이용해서 words를 다시 문자열로 바꿔 new_str에 저장하세요.\n",
        "new_str = ' '.join(words)\n",
        "print(new_str)"
      ],
      "metadata": {
        "colab": {
          "base_uri": "https://localhost:8080/"
        },
        "id": "AEmEf-lSjkFS",
        "outputId": "342ec00c-97de-43f7-b97b-e56be22bec48"
      },
      "execution_count": 18,
      "outputs": [
        {
          "output_type": "stream",
          "name": "stdout",
          "text": [
            "오늘은 날씨가 맑음\n"
          ]
        }
      ]
    },
    {
      "cell_type": "code",
      "source": [
        "# 슬라이스 실습\n",
        "list_test = [1, 2, 3, 4, 5]\n",
        "print(list_test[1])\n",
        "\n",
        "text = 'Hello World'\n",
        "print(type(text))\n",
        "\n",
        "# [a:b] a부터 b-1까지 가져온다.\n",
        "print(text[0:5])\n",
        "# 앞이 0 혹은 뒤가 끝까지라면 생략가능\n",
        "print(text[:7])\n",
        "print(text[2:])\n",
        "print(text[:])\n",
        "\n",
        "list_s = ['영', '일', '이', '삼', '사', '오']\n",
        "# ['일', '이']가 출력되도록 하세요.\n",
        "print(list_s[1:3])\n",
        "\n",
        "# ['영', '일']이 출력되도록 하세요.\n",
        "print(list_s[0:2])\n",
        "\n",
        "# len 함수\n",
        "# 리스트의 길이를 반환\n",
        "print(list_s[2:len(list_s)])\n",
        "\n",
        "# 처음부터 2까지 2가지 방법\n",
        "print(list_s[:2])\n",
        "print(list_s[0:2])\n",
        "\n",
        "# 처음부터 끝까지\n",
        "print(list_s)\n",
        "print(list_s[:])\n"
      ],
      "metadata": {
        "colab": {
          "base_uri": "https://localhost:8080/"
        },
        "id": "FqCIZ_N_r9p-",
        "outputId": "c0b87435-fea8-4d5a-b4d5-f51df85096b1"
      },
      "execution_count": 32,
      "outputs": [
        {
          "output_type": "stream",
          "name": "stdout",
          "text": [
            "2\n",
            "<class 'str'>\n",
            "Hello\n",
            "Hello W\n",
            "llo World\n",
            "Hello World\n",
            "['일', '이']\n",
            "['영', '일']\n",
            "['이', '삼', '사', '오']\n",
            "['영', '일']\n",
            "['영', '일']\n",
            "['영', '일', '이', '삼', '사', '오']\n",
            "['영', '일', '이', '삼', '사', '오']\n"
          ]
        }
      ]
    }
  ]
}