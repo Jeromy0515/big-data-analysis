{
  "nbformat": 4,
  "nbformat_minor": 0,
  "metadata": {
    "colab": {
      "name": "python-basic03.ipynb",
      "provenance": [],
      "collapsed_sections": [],
      "authorship_tag": "ABX9TyPzglqlArCCIdGEk0/z+DED",
      "include_colab_link": true
    },
    "kernelspec": {
      "name": "python3",
      "display_name": "Python 3"
    },
    "language_info": {
      "name": "python"
    }
  },
  "cells": [
    {
      "cell_type": "markdown",
      "metadata": {
        "id": "view-in-github",
        "colab_type": "text"
      },
      "source": [
        "<a href=\"https://colab.research.google.com/github/Jeromy0515/big-data-analysis-2/blob/main/python_basic03.ipynb\" target=\"_parent\"><img src=\"https://colab.research.google.com/assets/colab-badge.svg\" alt=\"Open In Colab\"/></a>"
      ]
    },
    {
      "cell_type": "code",
      "execution_count": 2,
      "metadata": {
        "id": "27UhZ0i6IFuh",
        "colab": {
          "base_uri": "https://localhost:8080/"
        },
        "outputId": "644c4f8f-cbe1-4297-fc60-f86825c09c2b"
      },
      "outputs": [
        {
          "output_type": "stream",
          "name": "stdout",
          "text": [
            "True\n",
            "12은 리스트안에 존재합니다.\n"
          ]
        }
      ],
      "source": [
        "# in 멸령어 \n",
        "list = [12, 33, 24, 15, 6, 39]\n",
        "\n",
        "\n",
        "# 리스트 안에 값이 12인 원소의 존재 여부 확인\n",
        "n = 12\n",
        "ownership = n in list\n",
        "print(ownership)\n",
        "\n",
        "if n in list:\n",
        "  print('{}은 리스트안에 존재합니다.'.format(n))"
      ]
    },
    {
      "cell_type": "code",
      "source": [
        "# del 명령어\n",
        "list2 = [24, 64, 34, 26, 86, 17]\n",
        "\n",
        "print(list2)\n",
        "\n",
        "# 리스트 안에 4번째 원소 삭제\n",
        "del list2[4]\n",
        "print(list2)"
      ],
      "metadata": {
        "colab": {
          "base_uri": "https://localhost:8080/"
        },
        "id": "PYU8tWQrKRcb",
        "outputId": "e34bca6a-d632-4c1d-ef0e-8f0a0814f098"
      },
      "execution_count": 5,
      "outputs": [
        {
          "output_type": "stream",
          "name": "stdout",
          "text": [
            "[24, 64, 34, 26, 86, 17]\n",
            "[24, 64, 34, 26, 17]\n"
          ]
        }
      ]
    },
    {
      "cell_type": "code",
      "source": [
        "# del 함수\n",
        "list4 = [1, 52, 36, 86, 42, 64]\n",
        "\n",
        "print(list4)\n",
        "# 가장 마지막에 있는 원속 삭제\n",
        "del(list4[-1])\n",
        "print(list4)"
      ],
      "metadata": {
        "colab": {
          "base_uri": "https://localhost:8080/"
        },
        "id": "NG042RnhLqGs",
        "outputId": "03e87497-8652-43fe-b26e-cce19fba7eee"
      },
      "execution_count": 10,
      "outputs": [
        {
          "output_type": "stream",
          "name": "stdout",
          "text": [
            "[1, 52, 36, 86, 42, 64]\n",
            "[1, 52, 36, 86, 42]\n"
          ]
        }
      ]
    },
    {
      "cell_type": "code",
      "source": [
        "# remove 함수\n",
        "list3 = [14, 53, 26, 75, 67, 83, 14]\n",
        "\n",
        "print(list3)\n",
        "# 14의 값을 가진 원소 삭제 해당 값 중복 시 가장 앞에 있는 원소를 삭제함\n",
        "list3.remove(14)\n",
        "print(list3)"
      ],
      "metadata": {
        "colab": {
          "base_uri": "https://localhost:8080/"
        },
        "id": "JIkHOkqtLH1r",
        "outputId": "21fb2c6e-a4fd-4978-aa76-b47370400645"
      },
      "execution_count": 6,
      "outputs": [
        {
          "output_type": "stream",
          "name": "stdout",
          "text": [
            "[14, 53, 26, 75, 67, 83, 14]\n",
            "[53, 26, 75, 67, 83, 14]\n"
          ]
        }
      ]
    },
    {
      "cell_type": "code",
      "source": [
        "# 실습\n",
        "# list1 끝에 4가 담기도록 추가\n",
        "list1 = [1, 2, 3]\n",
        "print('list1 :', list1)\n",
        "\n",
        "list1.append(4)\n",
        "print('list1 :', list1)\n",
        "\n",
        "print('---------------------------------------')\n",
        "# list1과 list2에 1~6 까지 숫자를 자유롭게 선언해서 list3을 출력했을때 [1, 2, 3, 4, 5, 6]이 출력되게 하기\n",
        "list1 = [1, 2, 3]\n",
        "list2 = [4, 5, 6]\n",
        "print('list1 :', list1)\n",
        "print('list2 :', list2)\n",
        "\n",
        "list3 = list1 + list2\n",
        "print('list3 :', list3)\n",
        "\n",
        "print('---------------------------------------')\n",
        "# 조건문을 활용하여 numbers 안에 5가 들어있으면 5가 들어 있다 라고 출력하기\n",
        "numbers = [1, 5, 3, 6, 7]\n",
        "print('numbers :', numbers)\n",
        "\n",
        "n = 5\n",
        "if n in numbers:\n",
        "  print('{}가 들어 있다.'.format(n))\n",
        "\n",
        "print('---------------------------------------')\n",
        "# list1에 1, 2, 3 을 선언하고 2를 삭제하기\n",
        "list1 = [1, 2, 3]\n",
        "print('list1 :', list1)\n",
        "\n",
        "list1.remove(2)\n",
        "print('list1 :', list1)"
      ],
      "metadata": {
        "colab": {
          "base_uri": "https://localhost:8080/"
        },
        "id": "SOFRJZkEL3hK",
        "outputId": "c77d93dd-45c6-4597-fb2a-5f3ea0812f05"
      },
      "execution_count": 16,
      "outputs": [
        {
          "output_type": "stream",
          "name": "stdout",
          "text": [
            "list1 : [1, 2, 3]\n",
            "list1 : [1, 2, 3, 4]\n",
            "---------------------------------------\n",
            "list1 : [1, 2, 3]\n",
            "list2 : [4, 5, 6]\n",
            "list3 : [1, 2, 3, 4, 5, 6]\n",
            "---------------------------------------\n",
            "numbers : [1, 5, 3, 6, 7]\n",
            "5가 들어 있다.\n",
            "---------------------------------------\n",
            "list1 : [1, 2, 3]\n",
            "list1 : [1, 3]\n"
          ]
        }
      ]
    },
    {
      "cell_type": "code",
      "source": [
        "# 리스트 심화\n",
        "list = [135, 546, 346, 145, 642]\n",
        "print(list)\n",
        "\n",
        "# index 함수\n",
        "\n",
        "# 346 이라는 값이 몇번 째 인덱스에 있는지 위치를 반환\n",
        "list.index(346)\n",
        "\n",
        "# 없는 값을 찾고자 할때 \n",
        "# list.index(999) # error\n",
        "\n",
        "# extend 함수\n",
        "list2 = [1, 2, 3] + [4, 5, 6]\n",
        "print('list2 :', list2)\n",
        "\n",
        "# 리스트에 끝 부분에 원소들(리스트)을 추가\n",
        "list2.extend([7, 8, 9])\n",
        "print('list2 :', list2)\n",
        "\n",
        "# insert 함수\n",
        "list3 = [1, 2 , 3, 4, 5]\n",
        "print('list3 :', list3)\n",
        "\n",
        "# 해당 위치(첫번째 인자 값)에 원소를 배치하고 뒤에 있는 원소들을 한칸씩 밀어냄\n",
        "list3.insert(1, 6)\n",
        "print('list3 :', list3)\n",
        "\n",
        "list3.insert(-1, 7)\n",
        "print('list3 :', list3)\n",
        "\n",
        "# 해당 위치(첫번째 인자 값)가 리스트의 길이를 넘어갈 시 원소를 가장 끝에 배치함\n",
        "list3.insert(1000, 8)\n",
        "print('list3 :', list3)"
      ],
      "metadata": {
        "colab": {
          "base_uri": "https://localhost:8080/"
        },
        "id": "kVjetctAPOxQ",
        "outputId": "1df04b07-7f95-4a7d-d2d1-bb3ac96f2ae2"
      },
      "execution_count": 31,
      "outputs": [
        {
          "output_type": "stream",
          "name": "stdout",
          "text": [
            "[135, 546, 346, 145, 642]\n",
            "list2 : [1, 2, 3, 4, 5, 6]\n",
            "list2 : [1, 2, 3, 4, 5, 6, 7, 8, 9]\n",
            "list3 : [1, 2, 3, 4, 5]\n",
            "list3 : [1, 6, 2, 3, 4, 5]\n",
            "list3 : [1, 6, 2, 3, 4, 7, 5]\n"
          ]
        }
      ]
    },
    {
      "cell_type": "code",
      "source": [
        "# 리스트 정렬\n",
        "\n",
        "list = [4, 6, 3, 2 , 5, 8, 1, 7, 9]\n",
        "# sort 함수 : 오름차순 정렬\n",
        "list.sort()\n",
        "print('sort :', list)\n",
        "\n",
        "# reverse 함수 : 내림차순 정렬\n",
        "list.reverse()\n",
        "print('reverse sort :', list)"
      ],
      "metadata": {
        "colab": {
          "base_uri": "https://localhost:8080/"
        },
        "id": "K7DuBewjYPyv",
        "outputId": "abec9dd8-c4ad-4906-dcd2-13b14d4cfbc3"
      },
      "execution_count": 33,
      "outputs": [
        {
          "output_type": "stream",
          "name": "stdout",
          "text": [
            "sort : [1, 2, 3, 4, 5, 6, 7, 8, 9]\n",
            "reverse sort : [9, 8, 7, 6, 5, 4, 3, 2, 1]\n"
          ]
        }
      ]
    },
    {
      "cell_type": "code",
      "source": [
        "# 실습\n",
        "# safe_index() 함수 생성하기\n",
        "# a_list와 정수 값을 매개변수로 받아서 a_list 안에 값이 있으면 인덱스의 위치를 반환하는 함수, 값이 없으면 None 반환\n",
        "\n",
        "list1 = [1, 2, 3, 4, 5]\n",
        "# 매개변수 초기화\n",
        "def safe_index(a_list, n=5):\n",
        "  if n in a_list:\n",
        "    return a_list.index(n)\n",
        "  else:\n",
        "     return None\n",
        "\n",
        "print(safe_index(list1, 4))\n",
        "print(safe_index(list1))\n",
        "print(safe_index(list1, 7))\n"
      ],
      "metadata": {
        "colab": {
          "base_uri": "https://localhost:8080/"
        },
        "id": "_cy8zbkZYoSH",
        "outputId": "f6f6f9c0-09e6-4f20-cea9-ac5831cc193d"
      },
      "execution_count": 48,
      "outputs": [
        {
          "output_type": "stream",
          "name": "stdout",
          "text": [
            "3\n",
            "4\n",
            "None\n"
          ]
        }
      ]
    }
  ]
}