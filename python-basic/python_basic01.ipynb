{
  "nbformat": 4,
  "nbformat_minor": 0,
  "metadata": {
    "colab": {
      "name": "python-basic01.ipynb",
      "provenance": [],
      "collapsed_sections": [],
      "toc_visible": true,
      "authorship_tag": "ABX9TyPGSO1b1VILQNlxBWUtPoL+",
      "include_colab_link": true
    },
    "kernelspec": {
      "name": "python3",
      "display_name": "Python 3"
    },
    "language_info": {
      "name": "python"
    }
  },
  "cells": [
    {
      "cell_type": "markdown",
      "metadata": {
        "id": "view-in-github",
        "colab_type": "text"
      },
      "source": [
        "<a href=\"https://colab.research.google.com/github/Jeromy0515/big-data-analysis-2/blob/main/python_basic01.ipynb\" target=\"_parent\"><img src=\"https://colab.research.google.com/assets/colab-badge.svg\" alt=\"Open In Colab\"/></a>"
      ]
    },
    {
      "cell_type": "code",
      "execution_count": 1,
      "metadata": {
        "id": "qcm7OhUebKr8"
      },
      "outputs": [],
      "source": [
        "# 주석문 입니다\n",
        "# Ctrl + Enter로 자동실행이 가능합니다\n",
        "# Ctrl + M + B로 코드 블럭 자동 생성이 가능합니다"
      ]
    },
    {
      "cell_type": "code",
      "source": [
        "# 단순출력\n",
        "print('Hello Python')"
      ],
      "metadata": {
        "colab": {
          "base_uri": "https://localhost:8080/"
        },
        "id": "Iew2gA9Hc0Mx",
        "outputId": "cb2b1600-f4db-4207-87d3-6e1d8f17cc68"
      },
      "execution_count": 3,
      "outputs": [
        {
          "output_type": "stream",
          "name": "stdout",
          "text": [
            "Hello Python\n"
          ]
        }
      ]
    },
    {
      "cell_type": "code",
      "source": [
        "# 변수 선언 \n",
        "# 변수명으로 출력시 마지막으로 호출된 것만 실행\n",
        "name = '박민재'\n",
        "print('Hello my name is', name)\n",
        "name\n",
        "\n",
        "age = 19\n",
        "print(age)\n",
        "age\n",
        "\n",
        "# , 로 구분시 자동 띄어쓰기 지원\n",
        "print('hello my name is', name, 'and i was', age,'years old')\n",
        "\n",
        "birth_year = '2004'\n",
        "birth_date = '0515'\n",
        "\n",
        "year_and_date = birth_year + birth_date\n",
        "print(year_and_date)"
      ],
      "metadata": {
        "colab": {
          "base_uri": "https://localhost:8080/"
        },
        "id": "KkUhvTfGc074",
        "outputId": "c872c139-9822-4c98-8600-a5031728b531"
      },
      "execution_count": 13,
      "outputs": [
        {
          "output_type": "stream",
          "name": "stdout",
          "text": [
            "Hello my name is 박민재\n",
            "19\n",
            "hello my name is 박민재 and i was 19 years old\n",
            "20040515\n"
          ]
        }
      ]
    },
    {
      "cell_type": "code",
      "source": [
        "# 조건문\n",
        "people = 3\n",
        "apple = 20\n",
        "\n",
        "if people < apple:\n",
        "  print('Exciting Apple Party!')\n",
        "\n",
        "if people == 3:\n",
        "  print('Same')\n",
        "\n",
        "if 5 <= 10 <= 15:\n",
        "  print('10 is larger than 5 and lower than 15')\n",
        "\n",
        "if True and True:\n",
        "  print('True and True')\n",
        "\n",
        "if True and False:\n",
        "  print('True and False')\n",
        "\n",
        "if False and False:\n",
        "  print('False and False')\n",
        "\n",
        "if True or True:\n",
        "  print('True or True')\n",
        "\n",
        "if True or False:\n",
        "  print('True and False')\n",
        "\n",
        "if False or False:\n",
        "  print('False or False')\n",
        "\n",
        "if False:\n",
        "  print('Don\\'t call this line')\n",
        "elif True:\n",
        "  print('Using elif command')"
      ],
      "metadata": {
        "colab": {
          "base_uri": "https://localhost:8080/"
        },
        "id": "JE8CaiYadzyH",
        "outputId": "db704987-3a12-4599-98e9-573918ea2a41"
      },
      "execution_count": 29,
      "outputs": [
        {
          "output_type": "stream",
          "name": "stdout",
          "text": [
            "Exciting Apple Party!\n",
            "Same\n",
            "10 is larger than 5 and lower than 15\n",
            "True and True\n",
            "True or True\n",
            "True and False\n",
            "Using elif command\n"
          ]
        }
      ]
    },
    {
      "cell_type": "code",
      "source": [
        "# scope\n",
        "if True:\n",
        "  print('Scope Start')\n",
        "\n",
        "  if True:\n",
        "    print('included Scope')\n",
        "  \n",
        "  if False:\n",
        "    print('included Scope but not run')\n",
        "  \n",
        "  print('Scope End')\n",
        "\n",
        "print('don\\'t included Scope')"
      ],
      "metadata": {
        "colab": {
          "base_uri": "https://localhost:8080/"
        },
        "id": "onEomYyvkyu5",
        "outputId": "811f2511-58cf-4573-96d1-2f1974eb9bae"
      },
      "execution_count": 33,
      "outputs": [
        {
          "output_type": "stream",
          "name": "stdout",
          "text": [
            "Scope Start\n",
            "included Scope\n",
            "Scope test\n",
            "don't included Scope\n"
          ]
        }
      ]
    },
    {
      "cell_type": "code",
      "source": [
        "# 가위바위보\n",
        "\n",
        "scissor = 'scissor'\n",
        "rock = 'rock'\n",
        "paper = 'paper'\n",
        "\n",
        "player1 = paper\n",
        "player2 = rock\n",
        "\n",
        "if player1 == player2:\n",
        "  print('DRAW')\n",
        "elif player1 == scissor:\n",
        "  if player2 == rock:\n",
        "    print('palyer2 win')\n",
        "  elif player2 == paper:\n",
        "    print('player1 win')\n",
        "elif player1 == rock:\n",
        "  if player2 == scissor:\n",
        "    print('player1 win')\n",
        "  elif player2 == paper:\n",
        "    print('player2 win')\n",
        "elif player1 == paper:\n",
        "  if player2 == scissor:\n",
        "    print('player2 win')\n",
        "  elif player2 == rock:\n",
        "    print('player1 win')\n"
      ],
      "metadata": {
        "colab": {
          "base_uri": "https://localhost:8080/"
        },
        "id": "3G6pBBsBphIN",
        "outputId": "29c56833-1e8f-4a19-d919-e05fdd4fbfb7"
      },
      "execution_count": 35,
      "outputs": [
        {
          "output_type": "stream",
          "name": "stdout",
          "text": [
            "player1 win\n"
          ]
        }
      ]
    }
  ]
}