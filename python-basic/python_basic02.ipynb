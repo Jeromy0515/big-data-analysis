{
  "nbformat": 4,
  "nbformat_minor": 0,
  "metadata": {
    "colab": {
      "name": "python-basic02.ipynb",
      "provenance": [],
      "collapsed_sections": [],
      "authorship_tag": "ABX9TyMfn4O6UZnQESML2iL/ecvH",
      "include_colab_link": true
    },
    "kernelspec": {
      "name": "python3",
      "display_name": "Python 3"
    },
    "language_info": {
      "name": "python"
    }
  },
  "cells": [
    {
      "cell_type": "markdown",
      "metadata": {
        "id": "view-in-github",
        "colab_type": "text"
      },
      "source": [
        "<a href=\"https://colab.research.google.com/github/Jeromy0515/big-data-analysis-2/blob/main/python_basic02.ipynb\" target=\"_parent\"><img src=\"https://colab.research.google.com/assets/colab-badge.svg\" alt=\"Open In Colab\"/></a>"
      ]
    },
    {
      "cell_type": "code",
      "execution_count": 1,
      "metadata": {
        "colab": {
          "base_uri": "https://localhost:8080/"
        },
        "id": "iVUvgUxNmEoG",
        "outputId": "eae20c60-dc73-4c98-a41f-b4b2d37519e6"
      },
      "outputs": [
        {
          "output_type": "stream",
          "name": "stdout",
          "text": [
            "player1 win\n"
          ]
        }
      ],
      "source": [
        "# 가위바위보2\n",
        "\n",
        "scissor = 'scissor'\n",
        "rock = 'rock'\n",
        "paper = 'paper'\n",
        "\n",
        "player1 = paper\n",
        "player2 = rock\n",
        "\n",
        "if player1 == player2:\n",
        "  print('DRAW')\n",
        "\n",
        "elif player1 == scissor:\n",
        "  if player2 == rock:\n",
        "    print('palyer2 win')\n",
        "  else:\n",
        "    print('player1 win')\n",
        "\n",
        "elif player1 == rock:\n",
        "  if player2 == scissor:\n",
        "    print('player1 win')\n",
        "  else:\n",
        "    print('player2 win')\n",
        "\n",
        "elif player1 == paper:\n",
        "  if player2 == scissor:\n",
        "    print('player2 win')\n",
        "  else:\n",
        "    print('player1 win')\n",
        "\n",
        "    "
      ]
    },
    {
      "cell_type": "code",
      "source": [
        "# 함수\n",
        "# 파이썬 문자열 포맷\n",
        "\n",
        "def print_cal(a, b):\n",
        "  r1 = a + b\n",
        "  r2 = a - b\n",
        "  r3 = a * b\n",
        "  r4 = a / b\n",
        "\n",
        "  print('결과는 {} {} {} {:.2f}'.format(r1, r2, r3, r4))\n",
        "\n",
        "print_cal(3,2)"
      ],
      "metadata": {
        "colab": {
          "base_uri": "https://localhost:8080/"
        },
        "id": "_aqLEH5BqhsQ",
        "outputId": "b0d90271-ca1e-46b2-c13b-b3a6eafdd787"
      },
      "execution_count": 2,
      "outputs": [
        {
          "output_type": "stream",
          "name": "stdout",
          "text": [
            "결과는 5 1 6 1.50\n"
          ]
        }
      ]
    },
    {
      "cell_type": "code",
      "source": [
        "# 정수와 실수\n",
        "\n",
        "print(int(5.0)) # 1\n",
        "print(float(5)) # 2\n",
        "print(5 * 1.0)  # 3"
      ],
      "metadata": {
        "colab": {
          "base_uri": "https://localhost:8080/"
        },
        "id": "lX0PrCoati-u",
        "outputId": "57a581af-67e3-40f0-e653-5daaddbe2cb0"
      },
      "execution_count": 3,
      "outputs": [
        {
          "output_type": "stream",
          "name": "stdout",
          "text": [
            "5\n",
            "5.0\n",
            "5.0\n"
          ]
        }
      ]
    },
    {
      "cell_type": "code",
      "source": [
        "# 입력\n",
        "# 내장함수명과 동일한 변수명 금지\n",
        "name = input()\n",
        "print('name:', name)"
      ],
      "metadata": {
        "colab": {
          "base_uri": "https://localhost:8080/"
        },
        "id": "nB7wdj3ex4tw",
        "outputId": "fab2a73f-ad80-4695-fff4-64ee9a2bc902"
      },
      "execution_count": 4,
      "outputs": [
        {
          "output_type": "stream",
          "name": "stdout",
          "text": [
            "hi\n",
            "name: hi\n"
          ]
        }
      ]
    },
    {
      "cell_type": "code",
      "source": [
        "\n",
        "scissor = 'scissor'\n",
        "rock = 'rock'\n",
        "paper = 'paper'\n",
        "\n",
        "print('input rock or scissor or paper')\n",
        "player1 = input('player1: ')\n",
        "player2 = input('player2: ')\n",
        "\n",
        "if player1 == player2:\n",
        "  print('DRAW')\n",
        "\n",
        "elif player1 == scissor:\n",
        "  if player2 == rock:\n",
        "    print('palyer2 win')\n",
        "  else:\n",
        "    print('player1 win')\n",
        "\n",
        "elif player1 == rock:\n",
        "  if player2 == scissor:\n",
        "    print('player1 win')\n",
        "  else:\n",
        "    print('player2 win')\n",
        "\n",
        "elif player1 == paper:\n",
        "  if player2 == scissor:\n",
        "    print('player2 win')\n",
        "  else:\n",
        "    print('player1 win')"
      ],
      "metadata": {
        "colab": {
          "base_uri": "https://localhost:8080/"
        },
        "id": "H-40aaJIyNd9",
        "outputId": "4516df05-f38d-4ad5-e708-fc160327a9a7"
      },
      "execution_count": 7,
      "outputs": [
        {
          "output_type": "stream",
          "name": "stdout",
          "text": [
            "input rock or scissor or paper\n",
            "player1: rock\n",
            "player2: scissor\n",
            "player1 win\n"
          ]
        }
      ]
    },
    {
      "cell_type": "code",
      "source": [
        "# 배열\n",
        "list1 = ['가위', '바위', '보']\n",
        "list2 = [37, 23 ,10 ,33 ,29, 40]\n",
        "\n",
        "print(list1)\n",
        "print(list2)\n"
      ],
      "metadata": {
        "colab": {
          "base_uri": "https://localhost:8080/"
        },
        "id": "yRnem2ux0IGA",
        "outputId": "2c4042fb-c3e3-4bc5-bb27-b4743d04578e"
      },
      "execution_count": 8,
      "outputs": [
        {
          "output_type": "stream",
          "name": "stdout",
          "text": [
            "['가위', '바위', '보']\n",
            "[37, 23, 10, 33, 29, 40]\n"
          ]
        }
      ]
    },
    {
      "cell_type": "code",
      "source": [
        "# 각 리시트의 첫번째 값 출력하기\n",
        "print(list1[0])\n",
        "print(list2[0])"
      ],
      "metadata": {
        "colab": {
          "base_uri": "https://localhost:8080/"
        },
        "id": "PxQ8B6AM1D_P",
        "outputId": "d26183f3-b418-4645-957f-d1e29b48776c"
      },
      "execution_count": 9,
      "outputs": [
        {
          "output_type": "stream",
          "name": "stdout",
          "text": [
            "가위\n",
            "37\n"
          ]
        }
      ]
    },
    {
      "cell_type": "code",
      "source": [
        "# 호출 방법에 따라 결과값 다르게 뜨는거 확인\n",
        "print(list1[0])\n",
        "list1[1]"
      ],
      "metadata": {
        "colab": {
          "base_uri": "https://localhost:8080/",
          "height": 53
        },
        "id": "bu5dpIp216AN",
        "outputId": "2903a08c-bab0-4c38-8f33-38c1241c049a"
      },
      "execution_count": 10,
      "outputs": [
        {
          "output_type": "stream",
          "name": "stdout",
          "text": [
            "가위\n"
          ]
        },
        {
          "output_type": "execute_result",
          "data": {
            "application/vnd.google.colaboratory.intrinsic+json": {
              "type": "string"
            },
            "text/plain": [
              "'바위'"
            ]
          },
          "metadata": {},
          "execution_count": 10
        }
      ]
    },
    {
      "cell_type": "code",
      "source": [
        "# list1에 첫번쨰 값 수정하기\n",
        "# list1에 첫번째 값을 바위로 수정하세요.\n",
        "list1[0] = '바위'\n",
        "print(list1[0])"
      ],
      "metadata": {
        "colab": {
          "base_uri": "https://localhost:8080/"
        },
        "id": "f8WIanY62C_8",
        "outputId": "76f3a2d0-6bad-4af5-b45b-b2bc37910e17"
      },
      "execution_count": 11,
      "outputs": [
        {
          "output_type": "stream",
          "name": "stdout",
          "text": [
            "바위\n"
          ]
        }
      ]
    },
    {
      "cell_type": "code",
      "source": [
        "# 음수로 데이터 접근하기\n",
        "list1[-1]"
      ],
      "metadata": {
        "colab": {
          "base_uri": "https://localhost:8080/",
          "height": 35
        },
        "id": "kLd0HRxl2m2t",
        "outputId": "38366c56-ff81-4323-c61c-463e8c2820c0"
      },
      "execution_count": 12,
      "outputs": [
        {
          "output_type": "execute_result",
          "data": {
            "application/vnd.google.colaboratory.intrinsic+json": {
              "type": "string"
            },
            "text/plain": [
              "'보'"
            ]
          },
          "metadata": {},
          "execution_count": 12
        }
      ]
    },
    {
      "cell_type": "code",
      "source": [
        "# rainbow 리스트를 생성\n",
        "rainbow = ['red', 'orange', 'yellow', 'green', 'blue', 'navy', 'purple']\n",
        "\n",
        "# first_color 변수를 만들어서 rainbow에 첫번째 값 넣어주기\n",
        "first_color = rainbow[0]\n",
        "\n",
        "print('무지개의 첫번째 색은 {} 이다.'.format(first_color))"
      ],
      "metadata": {
        "colab": {
          "base_uri": "https://localhost:8080/"
        },
        "id": "PjsbHMda3Bat",
        "outputId": "165d46a6-03e6-4da9-baea-3af04956bf29"
      },
      "execution_count": 17,
      "outputs": [
        {
          "output_type": "stream",
          "name": "stdout",
          "text": [
            "무지개의 첫번째 색은 red 이다.\n"
          ]
        }
      ]
    },
    {
      "cell_type": "code",
      "source": [
        "# last_color에 rainbow 마지막 색을 넣어주시고 출력해주세요.\n",
        "last_color = rainbow[-1]\n",
        "\n",
        "print('무지개의 마지막 색은 {} 이다.'.format(last_color))"
      ],
      "metadata": {
        "colab": {
          "base_uri": "https://localhost:8080/"
        },
        "id": "QyLRX33R4UkO",
        "outputId": "1e79b342-46a2-43e6-8ead-92e50cdab082"
      },
      "execution_count": 24,
      "outputs": [
        {
          "output_type": "stream",
          "name": "stdout",
          "text": [
            "무지개의 마지막 색은 purple 이다.\n"
          ]
        }
      ]
    },
    {
      "cell_type": "code",
      "source": [
        "# 여러줄 변수에 저장하기\n",
        "str = '''\n",
        "hi\n",
        "my name is\n",
        "Min Jae Park\n",
        "'''\n",
        "\n",
        "print(str)"
      ],
      "metadata": {
        "colab": {
          "base_uri": "https://localhost:8080/"
        },
        "id": "p0MbE7WZ5Q0j",
        "outputId": "3a9d2f47-3aed-4bcd-aea6-ef5d3db5631d"
      },
      "execution_count": 26,
      "outputs": [
        {
          "output_type": "stream",
          "name": "stdout",
          "text": [
            "\n",
            "hi\n",
            "my name is\n",
            "Min Jae Park\n",
            "\n"
          ]
        }
      ]
    },
    {
      "cell_type": "code",
      "source": [
        "# 리스트 수정\n",
        "list2 = [37, 23, 10, 33, 29, 40]\n",
        "\n",
        "# 리스트에 값을 추가하고 싶어요.\n",
        "list2.append(16)\n",
        "print(list2)\n",
        "\n",
        "list3 = list2 + [20]\n",
        "print(list3)\n",
        "\n",
        "# 리스트끼리 연산\n",
        "list4 = list2 + list3 \n",
        "print(list4)"
      ],
      "metadata": {
        "colab": {
          "base_uri": "https://localhost:8080/"
        },
        "id": "2QNFUp3P5eVd",
        "outputId": "44dd28bd-8b74-42af-c2d2-f66a873560ea"
      },
      "execution_count": 33,
      "outputs": [
        {
          "output_type": "stream",
          "name": "stdout",
          "text": [
            "[37, 23, 10, 33, 29, 40, 16]\n",
            "[37, 23, 10, 33, 29, 40, 16, 20]\n",
            "[37, 23, 10, 33, 29, 40, 16, 37, 23, 10, 33, 29, 40, 16, 20]\n"
          ]
        }
      ]
    }
  ]
}